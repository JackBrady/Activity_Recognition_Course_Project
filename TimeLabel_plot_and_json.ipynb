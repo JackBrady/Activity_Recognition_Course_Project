{
  "nbformat": 4,
  "nbformat_minor": 0,
  "metadata": {
    "colab": {
      "name": "TimeLabel plot and json.ipynb",
      "provenance": [],
      "collapsed_sections": []
    },
    "kernelspec": {
      "name": "python3",
      "display_name": "Python 3"
    },
    "accelerator": "GPU"
  },
  "cells": [
    {
      "cell_type": "code",
      "metadata": {
        "id": "N-faWTJiZx4B",
        "colab_type": "code",
        "colab": {}
      },
      "source": [
        "import torch\n",
        "import torch.nn as nn\n",
        "\n",
        "class C3D(nn.Module):\n",
        "    def __init__(self, num_classes, pretrained=True):\n",
        "        super(C3D, self).__init__()\n",
        "\n",
        "        '''\n",
        "        Pretrained feature extractor\n",
        "        '''\n",
        "        self.dropout = nn.Dropout(p=0.5)\n",
        "        self.relu = nn.ReLU()\n",
        "        self.conv1 = nn.Conv3d(3, 64, kernel_size=(3, 3, 3), padding=(1, 1, 1))\n",
        "        self.pool1 = nn.MaxPool3d(kernel_size=(1, 2, 2), stride=(1, 2, 2))\n",
        "        self.conv2 = nn.Conv3d(64, 128, kernel_size=(3, 3, 3), padding=(1, 1, 1))\n",
        "        self.pool2 = nn.MaxPool3d(kernel_size=(2, 2, 2), stride=(2, 2, 2))\n",
        "        self.conv3a = nn.Conv3d(128, 256, kernel_size=(3, 3, 3), padding=(1, 1, 1))\n",
        "        self.conv3b = nn.Conv3d(256, 256, kernel_size=(3, 3, 3), padding=(1, 1, 1))\n",
        "        self.pool3 = nn.MaxPool3d(kernel_size=(2, 2, 2), stride=(2, 2, 2))\n",
        "        self.conv4a = nn.Conv3d(256, 512, kernel_size=(3, 3, 3), padding=(1, 1, 1))\n",
        "        self.conv4b = nn.Conv3d(512, 512, kernel_size=(3, 3, 3), padding=(1, 1, 1))\n",
        "        self.pool4 = nn.MaxPool3d(kernel_size=(2, 2, 2), stride=(2, 2, 2))\n",
        "        self.conv5a = nn.Conv3d(512, 512, kernel_size=(3, 3, 3), padding=(1, 1, 1))\n",
        "        self.conv5b = nn.Conv3d(512, 512, kernel_size=(3, 3, 3), padding=(1, 1, 1))\n",
        "        self.pool5 = nn.MaxPool3d(kernel_size=(2, 2, 2), stride=(2, 2, 2), padding=(0, 1, 1))\n",
        "        self.fc6 = nn.Linear(8192, 4096)\n",
        "        self.fc7 = nn.Linear(4096, 4096)\n",
        "\n",
        "        '''\n",
        "        Trained Layer\n",
        "        '''\n",
        "        self.fc8 = nn.Linear(4096, num_classes)\n",
        "\n",
        "    def forward(self, x):\n",
        "        x = self.relu(self.conv1(x))\n",
        "        x = self.pool1(x)\n",
        "        x = self.relu(self.conv2(x))\n",
        "        x = self.pool2(x)\n",
        "        x = self.relu(self.conv3a(x))\n",
        "        x = self.relu(self.conv3b(x))\n",
        "        x = self.pool3(x)\n",
        "        x = self.relu(self.conv4a(x))\n",
        "        x = self.relu(self.conv4b(x))\n",
        "        x = self.pool4(x)\n",
        "        x = self.relu(self.conv5a(x))\n",
        "        x = self.relu(self.conv5b(x))\n",
        "        x = self.pool5(x)\n",
        "        x = x.view(-1, 8192)\n",
        "        x = self.relu(self.fc6(x))\n",
        "        x = self.dropout(x)\n",
        "        x = self.relu(self.fc7(x))\n",
        "        x = self.dropout(x)\n",
        "\n",
        "        logits = self.fc8(x)\n",
        "        return logits"
      ],
      "execution_count": 0,
      "outputs": []
    },
    {
      "cell_type": "code",
      "metadata": {
        "id": "-G8MeS-kLRtS",
        "colab_type": "code",
        "colab": {}
      },
      "source": [
        "m = np.load('Training_Loss.npy')\n",
        "n = np.load('Val_loss.npy')"
      ],
      "execution_count": 0,
      "outputs": []
    },
    {
      "cell_type": "code",
      "metadata": {
        "id": "N6-sC0KmXrF4",
        "colab_type": "code",
        "colab": {}
      },
      "source": [
        "import matplotlib.pyplot as plt"
      ],
      "execution_count": 0,
      "outputs": []
    },
    {
      "cell_type": "code",
      "metadata": {
        "id": "WQw6RK9grC0G",
        "colab_type": "code",
        "colab": {}
      },
      "source": [
        "def get_class_index(c_name, classes):\n",
        "  for i in range(len(classes)):\n",
        "    name = classes[i].split(' ')[-1].strip()\n",
        "    if name == c_name:\n",
        "      return i\n",
        "\n",
        "def center_crop(frame):\n",
        "    frame = frame[8:120, 30:142, :]\n",
        "    return np.array(frame).astype(np.uint8)\n",
        "\n",
        "with open('hmdb_labels.txt', 'r') as f:\n",
        "    classes = f.readlines()\n",
        "    f.close()"
      ],
      "execution_count": 0,
      "outputs": []
    },
    {
      "cell_type": "code",
      "metadata": {
        "id": "QeC3SyiV-Mcz",
        "colab_type": "code",
        "colab": {}
      },
      "source": [
        "action_name = 'climb_stairs'\n",
        "model_path = 'c3d_hdm51.pt'"
      ],
      "execution_count": 0,
      "outputs": []
    },
    {
      "cell_type": "markdown",
      "metadata": {
        "id": "p4yJjoMBJCvR",
        "colab_type": "text"
      },
      "source": [
        "The following function takes in the actual action from a video as well as the file paths to the trained model and video to be given to the model. The function also saves the time/label json and plot if specified as well as the time/label plot if specified."
      ]
    },
    {
      "cell_type": "code",
      "metadata": {
        "id": "8k2Z6Oxr71SR",
        "colab_type": "code",
        "colab": {}
      },
      "source": [
        "import torch\n",
        "import numpy as np\n",
        "import matplotlib.pyplot as plt\n",
        "import cv2\n",
        "import json\n",
        "from google.colab.patches import cv2_imshow\n",
        "\n",
        "def get_vid_probs_and_json(action_name,model_path, video_path, save_fig_json=False,save_name_fig=None,save_name_json=None):\n",
        "    '''\n",
        "    Load model\n",
        "    '''\n",
        "    model = C3D(num_classes=51)\n",
        "    model.load_state_dict(torch.load(model_path))\n",
        "    model.cuda()\n",
        "    model.eval()\n",
        "\n",
        "    '''\n",
        "    Get video\n",
        "    '''\n",
        "    cap = cv2.VideoCapture(video_path)\n",
        "    fps = cap.get(cv2.CAP_PROP_FPS)\n",
        "\n",
        "    '''\n",
        "    List for the timestamp/prob and list for the clips\n",
        "    '''\n",
        "    full_list = []\n",
        "    clip = []\n",
        "\n",
        "    '''\n",
        "    Iterate through each frame in the video\n",
        "    '''\n",
        "    i = 0\n",
        "    still_frames = True\n",
        "    while still_frames:\n",
        "        i+=1\n",
        "        still_frames, frame = cap.read()\n",
        "        if still_frames:\n",
        "            if i > 15:\n",
        "              # Only append if we are past the 16th frame as the previous are not used\n",
        "              full_list.append([cap.get(cv2.CAP_PROP_POS_MSEC)/1000])\n",
        "        else:\n",
        "            break\n",
        "\n",
        "        '''\n",
        "        Adapted Preprocessing code\n",
        "        '''\n",
        "        resized = center_crop(cv2.resize(frame, (171, 128)))\n",
        "        tmp = resized - np.array([[[90.0, 98.0, 102.0]]])\n",
        "        clip.append(tmp)\n",
        "\n",
        "        \n",
        "        # Has to fit model shape so wait until we get 16 frames\n",
        "        if len(clip) == 16:\n",
        "          with torch.no_grad():\n",
        "            inputs = np.array(clip).astype(np.float32)\n",
        "            inputs = np.expand_dims(inputs, axis=0)\n",
        "            inputs = np.transpose(inputs, (0, 4, 1, 2, 3))\n",
        "            inputs = torch.from_numpy(inputs)\n",
        "            inputs = torch.autograd.Variable(inputs, requires_grad=False).cuda()\n",
        "            outputs = model.forward(inputs)\n",
        "\n",
        "          probs = torch.nn.Softmax(dim=1)(outputs)\n",
        "\n",
        "          class_index = get_class_index(action_name, classes)\n",
        "          full_list[-1].append(probs[0][class_index].item())\n",
        "\n",
        "          clip.pop(0)\n",
        "\n",
        "    del full_list[-1]\n",
        "\n",
        "    plt.xlabel('Time (seconds)')\n",
        "    plt.ylabel('Prob of Given Action')\n",
        "    plt.plot(np.array(full_list)[:,0],np.array(full_list)[:,1])\n",
        "    if save_fig_json:\n",
        "      plt.savefig(save_name_fig)\n",
        "\n",
        "    full_json = {action_name: full_list}\n",
        "    if save_fig_json:\n",
        "        with open(save_name_json, 'w') as fp:\n",
        "          json.dump(full_json, fp)\n",
        "\n",
        "    return full_json\n"
      ],
      "execution_count": 0,
      "outputs": []
    },
    {
      "cell_type": "markdown",
      "metadata": {
        "id": "W8QEwmgZNTSz",
        "colab_type": "text"
      },
      "source": [
        "# **Five Results for Climbing Stairs**"
      ]
    },
    {
      "cell_type": "code",
      "metadata": {
        "id": "hsyW5qC-ZHVK",
        "colab_type": "code",
        "colab": {
          "base_uri": "https://localhost:8080/",
          "height": 279
        },
        "outputId": "62ac9f6c-c468-4353-85df-9f041df462b2"
      },
      "source": [
        "video_path = 'videos/climb_stairs/Baddest_Fight_Scenes_EVER!_-_Kill_Bill__Vol___1_-_vs__Crazy_88_s_climb_stairs_f_nm_np1_fr_med_3.avi'\n",
        "dl = get_vid_probs_and_json(action_name, model_path, video_path,True,'fig1','json1')"
      ],
      "execution_count": 57,
      "outputs": [
        {
          "output_type": "display_data",
          "data": {
            "image/png": "[encoded data removed]",
            "text/plain": [
              "<Figure size 432x288 with 1 Axes>"
            ]
          },
          "metadata": {
            "tags": []
          }
        }
      ]
    },
    {
      "cell_type": "code",
      "metadata": {
        "colab_type": "code",
        "outputId": "efe09904-0340-40e3-a9af-17d8d4131c89",
        "id": "lMmn04TzccD_",
        "colab": {
          "base_uri": "https://localhost:8080/",
          "height": 1000
        }
      },
      "source": [
        "dl"
      ],
      "execution_count": 58,
      "outputs": [
        {
          "output_type": "execute_result",
          "data": {
            "text/plain": [
              "{'climb_stairs': [[0.5666666666666667, 0.2894693613052368],\n",
              "  [0.6, 0.2762545347213745],\n",
              "  [0.6333333333333333, 0.5820344090461731],\n",
              "  [0.6666666666666666, 0.7272560596466064],\n",
              "  [0.7, 0.8932525515556335],\n",
              "  [0.7333333333333333, 0.9184091687202454],\n",
              "  [0.7666666666666666, 0.8819818496704102],\n",
              "  [0.8, 0.8967753648757935],\n",
              "  [0.8333333333333334, 0.9282658696174622],\n",
              "  [0.8666666666666667, 0.9446353912353516],\n",
              "  [0.9, 0.9839214086532593],\n",
              "  [0.9333333333333333, 0.9959333539009094],\n",
              "  [0.9666666666666667, 0.9956517815589905],\n",
              "  [1.0, 0.9962959885597229],\n",
              "  [1.0333333333333332, 0.9963943362236023],\n",
              "  [1.0666666666666667, 0.9965633749961853],\n",
              "  [1.1, 0.9968357682228088],\n",
              "  [1.1333333333333333, 0.996841549873352],\n",
              "  [1.1666666666666667, 0.9970149993896484],\n",
              "  [1.2, 0.9967527985572815],\n",
              "  [1.2333333333333334, 0.9971767663955688],\n",
              "  [1.2666666666666666, 0.9975118637084961],\n",
              "  [1.3, 0.9973030090332031],\n",
              "  [1.3333333333333333, 0.997559666633606],\n",
              "  [1.3666666666666667, 0.9974483251571655],\n",
              "  [1.4, 0.9976261258125305],\n",
              "  [1.4333333333333333, 0.9974862337112427],\n",
              "  [1.4666666666666666, 0.997796893119812],\n",
              "  [1.5, 0.9979175925254822],\n",
              "  [1.5333333333333332, 0.9983324408531189],\n",
              "  [1.5666666666666667, 0.9982122182846069],\n",
              "  [1.6, 0.9985349178314209],\n",
              "  [1.6333333333333333, 0.998685896396637],\n",
              "  [1.6666666666666667, 0.9988590478897095],\n",
              "  [1.7, 0.9985485672950745],\n",
              "  [1.7333333333333334, 0.9987988471984863],\n",
              "  [1.7666666666666666, 0.9988766312599182],\n",
              "  [1.8, 0.9988553524017334],\n",
              "  [1.8333333333333333, 0.9987449645996094],\n",
              "  [1.8666666666666667, 0.9984671473503113],\n",
              "  [1.9, 0.9976697564125061],\n",
              "  [1.9333333333333333, 0.9964545965194702],\n",
              "  [1.9666666666666666, 0.9944506883621216],\n",
              "  [2.0, 0.9947341680526733],\n",
              "  [2.033333333333333, 0.9940677881240845],\n",
              "  [2.0666666666666664, 0.9911818504333496],\n",
              "  [2.1, 0.9933957457542419],\n",
              "  [2.1333333333333333, 0.9911952018737793],\n",
              "  [2.1666666666666665, 0.9876950979232788],\n",
              "  [2.2, 0.982126772403717],\n",
              "  [2.2333333333333334, 0.9867333769798279],\n",
              "  [2.2666666666666666, 0.990444004535675],\n",
              "  [2.3, 0.9908223152160645],\n",
              "  [2.3333333333333335, 0.9867411255836487],\n",
              "  [2.3666666666666667, 0.9868583679199219],\n",
              "  [2.4, 0.9798253178596497],\n",
              "  [2.433333333333333, 0.9800557494163513],\n",
              "  [2.466666666666667, 0.9672503471374512],\n",
              "  [2.5, 0.9753220081329346],\n",
              "  [2.533333333333333, 0.9578347206115723],\n",
              "  [2.5666666666666664, 0.9675370454788208],\n",
              "  [2.6, 0.9349278211593628],\n",
              "  [2.6333333333333333, 0.9318767189979553],\n",
              "  [2.6666666666666665, 0.903020977973938],\n",
              "  [2.7, 0.8858981132507324],\n",
              "  [2.7333333333333334, 0.8283703923225403],\n",
              "  [2.7666666666666666, 0.8750309944152832],\n",
              "  [2.8, 0.834018349647522],\n",
              "  [2.8333333333333335, 0.8410239815711975],\n",
              "  [2.8666666666666667, 0.7485604286193848],\n",
              "  [2.9, 0.7730753421783447],\n",
              "  [2.933333333333333, 0.7973026633262634],\n",
              "  [2.966666666666667, 0.8136495351791382],\n",
              "  [3.0, 0.8026593327522278],\n",
              "  [3.033333333333333, 0.7978710532188416],\n",
              "  [3.0666666666666664, 0.7008910179138184],\n",
              "  [3.1, 0.7827344536781311],\n",
              "  [3.1333333333333333, 0.7274625897407532],\n",
              "  [3.1666666666666665, 0.810565173625946],\n",
              "  [3.2, 0.607701301574707],\n",
              "  [3.2333333333333334, 0.5904702544212341],\n",
              "  [3.2666666666666666, 0.5928153991699219],\n",
              "  [3.3, 0.7355018854141235],\n",
              "  [3.3333333333333335, 0.5701643228530884],\n",
              "  [3.3666666666666667, 0.4534868597984314],\n",
              "  [3.4, 0.17434923350811005],\n",
              "  [3.433333333333333, 0.1036381945014],\n",
              "  [3.466666666666667, 0.33658498525619507],\n",
              "  [3.5, 0.310730904340744],\n",
              "  [3.533333333333333, 0.28550583124160767],\n",
              "  [3.5666666666666664, 0.055100616067647934],\n",
              "  [3.6, 0.03896818310022354],\n",
              "  [3.6333333333333333, 0.057196106761693954],\n",
              "  [3.6666666666666665, 0.17530052363872528],\n",
              "  [3.6999999999999997, 0.09014303982257843],\n",
              "  [3.7333333333333334, 0.13365282118320465],\n",
              "  [3.7666666666666666, 0.1939946413040161],\n",
              "  [3.8, 0.43864530324935913],\n",
              "  [3.8333333333333335, 0.5154237151145935],\n",
              "  [3.8666666666666667, 0.6286348104476929],\n",
              "  [3.9, 0.6565468311309814],\n",
              "  [3.933333333333333, 0.8053696155548096],\n",
              "  [3.966666666666667, 0.8530923128128052],\n",
              "  [4.0, 0.9081121683120728],\n",
              "  [4.033333333333333, 0.9146620631217957],\n",
              "  [4.066666666666666, 0.9516862630844116],\n",
              "  [4.1, 0.9652817249298096],\n",
              "  [4.133333333333333, 0.9703811407089233],\n",
              "  [4.166666666666667, 0.971038818359375],\n",
              "  [4.2, 0.9740127921104431],\n",
              "  [4.233333333333333, 0.9289326071739197],\n",
              "  [4.266666666666667, 0.6717993021011353],\n",
              "  [4.3, 0.5616540312767029],\n",
              "  [4.333333333333333, 0.4287621080875397],\n",
              "  [4.366666666666666, 0.3178180456161499]]}"
            ]
          },
          "metadata": {
            "tags": []
          },
          "execution_count": 58
        }
      ]
    },
    {
      "cell_type": "code",
      "metadata": {
        "id": "C6FeL__fKBcX",
        "colab_type": "code",
        "colab": {
          "base_uri": "https://localhost:8080/",
          "height": 279
        },
        "outputId": "33086b37-8352-4895-f724-3e1a013dcb6c"
      },
      "source": [
        "video_path = 'videos/climb_stairs/Beginner_Boxing_Lessons_-_Using_Stairs_for_Boxing_Training_climb_stairs_l_cm_np1_ba_med_0.avi'\n",
        "dl = get_vid_probs_and_json(action_name, model_path, video_path,True,'fig2','json2')"
      ],
      "execution_count": 59,
      "outputs": [
        {
          "output_type": "display_data",
          "data": {
            "image/png": "[encoded data removed]",
            "text/plain": [
              "<Figure size 432x288 with 1 Axes>"
            ]
          },
          "metadata": {
            "tags": []
          }
        }
      ]
    },
    {
      "cell_type": "code",
      "metadata": {
        "id": "ljHMx4X6Nul6",
        "colab_type": "code",
        "colab": {
          "base_uri": "https://localhost:8080/",
          "height": 1000
        },
        "outputId": "f737b61f-d07e-4b5b-dabb-f3e7461674b1"
      },
      "source": [
        "dl"
      ],
      "execution_count": 60,
      "outputs": [
        {
          "output_type": "execute_result",
          "data": {
            "text/plain": [
              "{'climb_stairs': [[0.5666666666666667, 0.9068647027015686],\n",
              "  [0.6, 0.928523600101471],\n",
              "  [0.6333333333333333, 0.9690728783607483],\n",
              "  [0.6666666666666666, 0.9847888946533203],\n",
              "  [0.7, 0.984401285648346],\n",
              "  [0.7333333333333333, 0.987877607345581],\n",
              "  [0.7666666666666666, 0.9819480180740356],\n",
              "  [0.8, 0.9759422540664673],\n",
              "  [0.8333333333333334, 0.975702702999115],\n",
              "  [0.8666666666666667, 0.9842724800109863],\n",
              "  [0.9, 0.9917719960212708],\n",
              "  [0.9333333333333333, 0.9899725914001465],\n",
              "  [0.9666666666666667, 0.9891372323036194],\n",
              "  [1.0, 0.9838690161705017],\n",
              "  [1.0333333333333332, 0.9896683692932129],\n",
              "  [1.0666666666666667, 0.9874563813209534],\n",
              "  [1.1, 0.9940100908279419],\n",
              "  [1.1333333333333333, 0.9955564141273499],\n",
              "  [1.1666666666666667, 0.9950770735740662],\n",
              "  [1.2, 0.9960909485816956],\n",
              "  [1.2333333333333334, 0.9958042502403259],\n",
              "  [1.2666666666666666, 0.9961507320404053],\n",
              "  [1.3, 0.9959075450897217],\n",
              "  [1.3333333333333333, 0.9958564639091492],\n",
              "  [1.3666666666666667, 0.9934766888618469],\n",
              "  [1.4, 0.9876959323883057],\n",
              "  [1.4333333333333333, 0.9909974336624146],\n",
              "  [1.4666666666666666, 0.9940634369850159],\n",
              "  [1.5, 0.9953675270080566],\n",
              "  [1.5333333333333332, 0.9956347346305847],\n",
              "  [1.5666666666666667, 0.9945461750030518],\n",
              "  [1.6, 0.9955287575721741],\n",
              "  [1.6333333333333333, 0.9971979856491089],\n",
              "  [1.6666666666666667, 0.9974321722984314],\n",
              "  [1.7, 0.9963902831077576],\n",
              "  [1.7333333333333334, 0.9944818019866943],\n",
              "  [1.7666666666666666, 0.9929515719413757],\n",
              "  [1.8, 0.9918768405914307],\n",
              "  [1.8333333333333333, 0.9930213093757629],\n",
              "  [1.8666666666666667, 0.9943796992301941],\n",
              "  [1.9, 0.9961382746696472],\n",
              "  [1.9333333333333333, 0.9946725964546204],\n",
              "  [1.9666666666666666, 0.9907001852989197],\n",
              "  [2.0, 0.9850083589553833],\n",
              "  [2.033333333333333, 0.9785122275352478],\n",
              "  [2.0666666666666664, 0.9416571855545044],\n",
              "  [2.1, 0.9073302745819092],\n",
              "  [2.1333333333333333, 0.9108160138130188],\n",
              "  [2.1666666666666665, 0.9694305658340454],\n",
              "  [2.2, 0.9848418235778809],\n",
              "  [2.2333333333333334, 0.9882461428642273],\n",
              "  [2.2666666666666666, 0.9849453568458557],\n",
              "  [2.3, 0.9895843863487244],\n",
              "  [2.3333333333333335, 0.9918163418769836],\n",
              "  [2.3666666666666667, 0.9944989085197449],\n",
              "  [2.4, 0.9955353736877441],\n",
              "  [2.433333333333333, 0.994476854801178],\n",
              "  [2.466666666666667, 0.9969768524169922],\n",
              "  [2.5, 0.9943401217460632],\n",
              "  [2.533333333333333, 0.9933987855911255],\n",
              "  [2.5666666666666664, 0.9905383586883545]]}"
            ]
          },
          "metadata": {
            "tags": []
          },
          "execution_count": 60
        }
      ]
    },
    {
      "cell_type": "code",
      "metadata": {
        "id": "npYpqnr9KS5V",
        "colab_type": "code",
        "colab": {
          "base_uri": "https://localhost:8080/",
          "height": 279
        },
        "outputId": "9c304880-5b24-4d35-be72-c2b42809b2e6"
      },
      "source": [
        "video_path = 'videos/climb_stairs/Empire_State_Building_Run-Up_climb_stairs_f_cm_np1_ba_med_3.avi'\n",
        "dl = get_vid_probs_and_json(action_name, model_path, video_path,True,'fig3','json3')"
      ],
      "execution_count": 61,
      "outputs": [
        {
          "output_type": "display_data",
          "data": {
            "image/png": "[encoded data removed]",
            "text/plain": [
              "<Figure size 432x288 with 1 Axes>"
            ]
          },
          "metadata": {
            "tags": []
          }
        }
      ]
    },
    {
      "cell_type": "code",
      "metadata": {
        "id": "AQmT23I7Nxd6",
        "colab_type": "code",
        "colab": {
          "base_uri": "https://localhost:8080/",
          "height": 1000
        },
        "outputId": "ba36831b-a85c-429d-fec4-e5b7629ba594"
      },
      "source": [
        "dl"
      ],
      "execution_count": 62,
      "outputs": [
        {
          "output_type": "execute_result",
          "data": {
            "text/plain": [
              "{'climb_stairs': [[0.5666666666666667, 0.9092130661010742],\n",
              "  [0.6, 0.9145777821540833],\n",
              "  [0.6333333333333333, 0.9394428133964539],\n",
              "  [0.6666666666666666, 0.9229177236557007],\n",
              "  [0.7, 0.9488052129745483],\n",
              "  [0.7333333333333333, 0.962915301322937],\n",
              "  [0.7666666666666666, 0.9659639596939087],\n",
              "  [0.8, 0.9667686223983765],\n",
              "  [0.8333333333333334, 0.9810325503349304],\n",
              "  [0.8666666666666667, 0.982982337474823],\n",
              "  [0.9, 0.9835521578788757],\n",
              "  [0.9333333333333333, 0.9785035252571106],\n",
              "  [0.9666666666666667, 0.9838507771492004],\n",
              "  [1.0, 0.98387211561203],\n",
              "  [1.0333333333333332, 0.9889251589775085],\n",
              "  [1.0666666666666667, 0.9892458319664001],\n",
              "  [1.1, 0.9896728992462158],\n",
              "  [1.1333333333333333, 0.9899718761444092],\n",
              "  [1.1666666666666667, 0.9915263056755066],\n",
              "  [1.2, 0.9930816292762756],\n",
              "  [1.2333333333333334, 0.9940453767776489],\n",
              "  [1.2666666666666666, 0.9934272766113281],\n",
              "  [1.3, 0.9943588376045227],\n",
              "  [1.3333333333333333, 0.9945821166038513],\n",
              "  [1.3666666666666667, 0.9959536790847778],\n",
              "  [1.4, 0.9960448145866394],\n",
              "  [1.4333333333333333, 0.9962983727455139],\n",
              "  [1.4666666666666666, 0.9957196116447449],\n",
              "  [1.5, 0.9964700937271118],\n",
              "  [1.5333333333333332, 0.9967412352561951],\n",
              "  [1.5666666666666667, 0.9969032406806946],\n",
              "  [1.6, 0.9963501691818237],\n",
              "  [1.6333333333333333, 0.9959845542907715],\n",
              "  [1.6666666666666667, 0.9947192668914795],\n",
              "  [1.7, 0.9962825179100037],\n",
              "  [1.7333333333333334, 0.9949566721916199],\n",
              "  [1.7666666666666666, 0.9954985976219177],\n",
              "  [1.8, 0.9953277111053467],\n",
              "  [1.8333333333333333, 0.995322048664093],\n",
              "  [1.8666666666666667, 0.9955326318740845],\n",
              "  [1.9, 0.9965797066688538],\n",
              "  [1.9333333333333333, 0.9970970153808594],\n",
              "  [1.9666666666666666, 0.9958694577217102],\n",
              "  [2.0, 0.9951592087745667],\n",
              "  [2.033333333333333, 0.9966593980789185],\n",
              "  [2.0666666666666664, 0.9970114231109619],\n",
              "  [2.1, 0.9974521994590759],\n",
              "  [2.1333333333333333, 0.9965332746505737],\n",
              "  [2.1666666666666665, 0.9963060617446899],\n",
              "  [2.2, 0.9973281621932983],\n",
              "  [2.2333333333333334, 0.9982666969299316],\n",
              "  [2.2666666666666666, 0.9982861876487732],\n",
              "  [2.3, 0.9983952641487122],\n",
              "  [2.3333333333333335, 0.9987045526504517],\n",
              "  [2.3666666666666667, 0.9986779093742371],\n",
              "  [2.4, 0.9981251358985901],\n",
              "  [2.433333333333333, 0.9969488978385925],\n",
              "  [2.466666666666667, 0.9672648310661316],\n",
              "  [2.5, 0.9592330455780029],\n",
              "  [2.533333333333333, 0.9725216627120972],\n",
              "  [2.5666666666666664, 0.9562796950340271]]}"
            ]
          },
          "metadata": {
            "tags": []
          },
          "execution_count": 62
        }
      ]
    },
    {
      "cell_type": "code",
      "metadata": {
        "id": "lI2LvsBAKbul",
        "colab_type": "code",
        "colab": {
          "base_uri": "https://localhost:8080/",
          "height": 279
        },
        "outputId": "2967c046-16cf-4a34-fabd-32ef54a771ae"
      },
      "source": [
        "video_path = 'videos/climb_stairs/Treppen_steigen_climb_stairs_f_cm_np1_le_bad_7.avi'\n",
        "dl = get_vid_probs_and_json(action_name, model_path, video_path,True,'fig4','json4')"
      ],
      "execution_count": 63,
      "outputs": [
        {
          "output_type": "display_data",
          "data": {
            "image/png": "[encoded data removed]",
            "text/plain": [
              "<Figure size 432x288 with 1 Axes>"
            ]
          },
          "metadata": {
            "tags": []
          }
        }
      ]
    },
    {
      "cell_type": "code",
      "metadata": {
        "id": "K6y7U-BxNzLq",
        "colab_type": "code",
        "colab": {
          "base_uri": "https://localhost:8080/",
          "height": 1000
        },
        "outputId": "e66ebaf6-de85-4c9c-8a81-00011b7cd73c"
      },
      "source": [
        "dl"
      ],
      "execution_count": 64,
      "outputs": [
        {
          "output_type": "execute_result",
          "data": {
            "text/plain": [
              "{'climb_stairs': [[0.5666666666666667, 0.9284486770629883],\n",
              "  [0.6, 0.9051982760429382],\n",
              "  [0.6333333333333333, 0.9227257966995239],\n",
              "  [0.6666666666666666, 0.8760117292404175],\n",
              "  [0.7, 0.857003390789032],\n",
              "  [0.7333333333333333, 0.874866247177124],\n",
              "  [0.7666666666666666, 0.9010611176490784],\n",
              "  [0.8, 0.6531068086624146],\n",
              "  [0.8333333333333334, 0.7841377258300781],\n",
              "  [0.8666666666666667, 0.8148270845413208],\n",
              "  [0.9, 0.7923161387443542],\n",
              "  [0.9333333333333333, 0.8647858500480652],\n",
              "  [0.9666666666666667, 0.8899078965187073],\n",
              "  [1.0, 0.8256635069847107],\n",
              "  [1.0333333333333332, 0.8576319813728333],\n",
              "  [1.0666666666666667, 0.8908553719520569],\n",
              "  [1.1, 0.8402398824691772],\n",
              "  [1.1333333333333333, 0.8428162336349487],\n",
              "  [1.1666666666666667, 0.8933838605880737],\n",
              "  [1.2, 0.8917455673217773],\n",
              "  [1.2333333333333334, 0.9287360906600952],\n",
              "  [1.2666666666666666, 0.9532653093338013],\n",
              "  [1.3, 0.960595965385437],\n",
              "  [1.3333333333333333, 0.9672914743423462],\n",
              "  [1.3666666666666667, 0.9763398170471191],\n",
              "  [1.4, 0.9653604626655579],\n",
              "  [1.4333333333333333, 0.9581927061080933],\n",
              "  [1.4666666666666666, 0.969791829586029],\n",
              "  [1.5, 0.9571704268455505],\n",
              "  [1.5333333333333332, 0.9453939199447632],\n",
              "  [1.5666666666666667, 0.916671872138977],\n",
              "  [1.6, 0.9067815542221069],\n",
              "  [1.6333333333333333, 0.8692617416381836],\n",
              "  [1.6666666666666667, 0.8338826894760132],\n",
              "  [1.7, 0.6798542737960815],\n",
              "  [1.7333333333333334, 0.6828935146331787],\n",
              "  [1.7666666666666666, 0.6886640191078186],\n",
              "  [1.8, 0.6469491124153137],\n",
              "  [1.8333333333333333, 0.6782679557800293],\n",
              "  [1.8666666666666667, 0.7211403250694275],\n",
              "  [1.9, 0.6843029856681824],\n",
              "  [1.9333333333333333, 0.7872938513755798],\n",
              "  [1.9666666666666666, 0.8067182302474976],\n",
              "  [2.0, 0.7398484349250793],\n",
              "  [2.033333333333333, 0.7842971682548523],\n",
              "  [2.0666666666666664, 0.8728024959564209],\n",
              "  [2.1, 0.7709470987319946],\n",
              "  [2.1333333333333333, 0.8422398567199707],\n",
              "  [2.1666666666666665, 0.8508299589157104],\n",
              "  [2.2, 0.8197780847549438],\n",
              "  [2.2333333333333334, 0.8249420523643494],\n",
              "  [2.2666666666666666, 0.8574171662330627],\n",
              "  [2.3, 0.8838964104652405],\n",
              "  [2.3333333333333335, 0.8925394415855408],\n",
              "  [2.3666666666666667, 0.9044924974441528],\n",
              "  [2.4, 0.9171279668807983],\n",
              "  [2.433333333333333, 0.8928211331367493],\n",
              "  [2.466666666666667, 0.8569495677947998],\n",
              "  [2.5, 0.8708170652389526],\n",
              "  [2.533333333333333, 0.8800241947174072],\n",
              "  [2.5666666666666664, 0.8521391749382019],\n",
              "  [2.6, 0.8490182161331177],\n",
              "  [2.6333333333333333, 0.869664192199707],\n",
              "  [2.6666666666666665, 0.9107978940010071],\n",
              "  [2.7, 0.8787493705749512]]}"
            ]
          },
          "metadata": {
            "tags": []
          },
          "execution_count": 64
        }
      ]
    },
    {
      "cell_type": "code",
      "metadata": {
        "id": "VS4pylyKKgZ0",
        "colab_type": "code",
        "colab": {
          "base_uri": "https://localhost:8080/",
          "height": 279
        },
        "outputId": "656e8ade-d159-4acf-a9f3-7b64f9093d87"
      },
      "source": [
        "video_path = 'videos/climb_stairs/Running_Up_Stairs_climb_stairs_l_nm_np1_ba_med_0.avi'\n",
        "dl = get_vid_probs_and_json(action_name, model_path, video_path,True,'fig5','json5')"
      ],
      "execution_count": 65,
      "outputs": [
        {
          "output_type": "display_data",
          "data": {
            "image/png": "[encoded data removed]",
            "text/plain": [
              "<Figure size 432x288 with 1 Axes>"
            ]
          },
          "metadata": {
            "tags": []
          }
        }
      ]
    },
    {
      "cell_type": "code",
      "metadata": {
        "id": "Q0cKmir_N0rB",
        "colab_type": "code",
        "colab": {
          "base_uri": "https://localhost:8080/",
          "height": 1000
        },
        "outputId": "dfd79cbc-904d-425d-e3d6-c44648e4b616"
      },
      "source": [
        "dl"
      ],
      "execution_count": 66,
      "outputs": [
        {
          "output_type": "execute_result",
          "data": {
            "text/plain": [
              "{'climb_stairs': [[0.5666666666666667, 0.2104947865009308],\n",
              "  [0.6, 0.2641785442829132],\n",
              "  [0.6333333333333333, 0.26362428069114685],\n",
              "  [0.6666666666666666, 0.3839857578277588],\n",
              "  [0.7, 0.3665442168712616],\n",
              "  [0.7333333333333333, 0.3439975082874298],\n",
              "  [0.7666666666666666, 0.3330727517604828],\n",
              "  [0.8, 0.31571096181869507],\n",
              "  [0.8333333333333334, 0.4232940673828125],\n",
              "  [0.8666666666666667, 0.3775668442249298],\n",
              "  [0.9, 0.554377019405365],\n",
              "  [0.9333333333333333, 0.631620466709137],\n",
              "  [0.9666666666666667, 0.7200032472610474],\n",
              "  [1.0, 0.8196069002151489],\n",
              "  [1.0333333333333332, 0.8869653940200806],\n",
              "  [1.0666666666666667, 0.9100764393806458],\n",
              "  [1.1, 0.9262312650680542],\n",
              "  [1.1333333333333333, 0.9269739389419556],\n",
              "  [1.1666666666666667, 0.9292532801628113],\n",
              "  [1.2, 0.9358542561531067],\n",
              "  [1.2333333333333334, 0.9489225149154663],\n",
              "  [1.2666666666666666, 0.9455546140670776],\n",
              "  [1.3, 0.9593542814254761],\n",
              "  [1.3333333333333333, 0.9756539463996887],\n",
              "  [1.3666666666666667, 0.9754276871681213],\n",
              "  [1.4, 0.9763645529747009],\n",
              "  [1.4333333333333333, 0.9776455163955688],\n",
              "  [1.4666666666666666, 0.9661349654197693],\n",
              "  [1.5, 0.9598280191421509],\n",
              "  [1.5333333333333332, 0.9464312195777893],\n",
              "  [1.5666666666666667, 0.9450172185897827],\n",
              "  [1.6, 0.9208620190620422],\n",
              "  [1.6333333333333333, 0.9150719046592712],\n",
              "  [1.6666666666666667, 0.9077256917953491],\n",
              "  [1.7, 0.9305258989334106],\n",
              "  [1.7333333333333334, 0.9239590764045715],\n",
              "  [1.7666666666666666, 0.9167983531951904],\n",
              "  [1.8, 0.9345042109489441],\n",
              "  [1.8333333333333333, 0.9337470531463623],\n",
              "  [1.8666666666666667, 0.9324458241462708],\n",
              "  [1.9, 0.9381320476531982],\n",
              "  [1.9333333333333333, 0.9399592280387878],\n",
              "  [1.9666666666666666, 0.9319205284118652],\n",
              "  [2.0, 0.9277834892272949],\n",
              "  [2.033333333333333, 0.9159097075462341],\n",
              "  [2.0666666666666664, 0.9134988784790039],\n",
              "  [2.1, 0.8878045678138733],\n",
              "  [2.1333333333333333, 0.8975796699523926],\n",
              "  [2.1666666666666665, 0.8501383662223816],\n",
              "  [2.2, 0.8293845057487488],\n",
              "  [2.2333333333333334, 0.7853423953056335],\n",
              "  [2.2666666666666666, 0.7736174464225769],\n",
              "  [2.3, 0.7432349324226379],\n",
              "  [2.3333333333333335, 0.7388207912445068],\n",
              "  [2.3666666666666667, 0.7047800421714783],\n",
              "  [2.4, 0.7036896347999573],\n",
              "  [2.433333333333333, 0.6643074750900269],\n",
              "  [2.466666666666667, 0.6041579246520996],\n",
              "  [2.5, 0.5522683262825012],\n",
              "  [2.533333333333333, 0.5611979961395264],\n",
              "  [2.5666666666666664, 0.5404492616653442],\n",
              "  [2.6, 0.5115519165992737]]}"
            ]
          },
          "metadata": {
            "tags": []
          },
          "execution_count": 66
        }
      ]
    }
  ]
}